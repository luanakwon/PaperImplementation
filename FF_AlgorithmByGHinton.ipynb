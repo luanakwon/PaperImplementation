{
  "nbformat": 4,
  "nbformat_minor": 0,
  "metadata": {
    "colab": {
      "provenance": [],
      "authorship_tag": "ABX9TyPRKdA00kSkE04ixJWqohQJ",
      "include_colab_link": true
    },
    "kernelspec": {
      "name": "python3",
      "display_name": "Python 3"
    },
    "language_info": {
      "name": "python"
    }
  },
  "cells": [
    {
      "cell_type": "markdown",
      "metadata": {
        "id": "view-in-github",
        "colab_type": "text"
      },
      "source": [
        "<a href=\"https://colab.research.google.com/github/luanakwon/PaperImplementation/blob/main/FF_AlgorithmByGHinton.ipynb\" target=\"_parent\"><img src=\"https://colab.research.google.com/assets/colab-badge.svg\" alt=\"Open In Colab\"/></a>"
      ]
    },
    {
      "cell_type": "markdown",
      "source": [
        "# Unsupervised-Learning"
      ],
      "metadata": {
        "id": "8uim5NnapR8Z"
      }
    },
    {
      "cell_type": "markdown",
      "source": [
        "### Simple FC structure with Backpropagation"
      ],
      "metadata": {
        "id": "B7SjzPzRpeUR"
      }
    },
    {
      "cell_type": "code",
      "execution_count": 1,
      "metadata": {
        "id": "NlG5ZkUbo7p9"
      },
      "outputs": [],
      "source": [
        "import torch\n",
        "import torch.nn as nn\n",
        "from torchvision import transforms\n",
        "from torchvision.datasets import MNIST"
      ]
    },
    {
      "cell_type": "code",
      "source": [
        "class SimplestLayerNorm(nn.Module):\n",
        "    def __init__(self, eps=1e-05):\n",
        "        super(SimplestLayerNorm, self).__init__()\n",
        "        self.eps = eps\n",
        "\n",
        "    def forward(self, x):\n",
        "        norm = torch.linalg.vector_norm(x.view(x.shape[0],-1),dim=1)\n",
        "        return x / (norm.view(-1,1)+self.eps)"
      ],
      "metadata": {
        "id": "31GCmu-svdDk"
      },
      "execution_count": 2,
      "outputs": []
    },
    {
      "cell_type": "code",
      "source": [
        "class UnspvisedFCwBackProp(nn.Module):\n",
        "    def __init__(self):\n",
        "        super(UnspvisedFCwBackProp, self).__init__()\n",
        "        self.layer0 = nn.Sequential(\n",
        "            nn.Linear(1*28*28, 30),\n",
        "            nn.ReLU(),\n",
        "            SimplestLayerNorm()\n",
        "        )\n",
        "        self.layer1 = nn.Sequential(\n",
        "            nn.Linear(30, 30),\n",
        "            nn.ReLU(),\n",
        "            SimplestLayerNorm()\n",
        "        )\n",
        "        self.layer2 = nn.Sequential(\n",
        "            nn.Linear(30, 30),\n",
        "            nn.ReLU(),\n",
        "            SimplestLayerNorm()\n",
        "        )\n",
        "        self.layer3 = nn.Sequential(\n",
        "            nn.Linear(30, 30),\n",
        "            nn.ReLU(),\n",
        "            SimplestLayerNorm()\n",
        "        )\n",
        "        self.linearClassifier = nn.Sequential(\n",
        "            nn.Linear(30*3,10),\n",
        "            nn.Softmax(dim=1)\n",
        "        )\n",
        "    def forward(self, x):\n",
        "        hiddens = []\n",
        "        hiddens.append(self.layer0(x.view(x.shape[0],-1)))\n",
        "        hiddens.append(self.layer1(hiddens[0]))\n",
        "        hiddens.append(self.layer2(hiddens[1]))\n",
        "        hiddens.append(self.layer3(hiddens[2]))\n",
        "        out = self.linearClassifier(torch.cat(hiddens[1:],dim=1))\n",
        "        return out"
      ],
      "metadata": {
        "id": "tZDDCwr5p7Hz"
      },
      "execution_count": 13,
      "outputs": []
    },
    {
      "cell_type": "code",
      "source": [
        "train_dataset = MNIST(\n",
        "    root='/content',train=True,download=True,\n",
        "    transform=transforms.ToTensor())\n",
        "loader = torch.utils.data.DataLoader(\n",
        "    dataset=train_dataset,batch_size=4,shuffle=True\n",
        ")\n",
        "\n",
        "nnet = UnspvisedFCwBackProp()\n",
        "\n",
        "for i, (x, label) in enumerate(loader):\n",
        "    print(x.shape, x.dtype, torch.mean(x))\n",
        "    print(label)\n",
        "\n",
        "    y = nnet(x)\n",
        "    print(y)\n",
        "\n",
        "    break\n",
        "\n",
        "# x = torch.randn((2,3))\n",
        "# print(x)\n",
        "# print(x*x)\n",
        "# print(torch.sqrt(torch.sum(x*x,dim=1)))\n",
        "# y = x/torch.sqrt(torch.sum(x*x,dim=1).view(2,1))\n",
        "# print(y)\n",
        "# print(torch.sum(y*y,dim=1))\n",
        "\n",
        "# # print(torch.linalg.matrix_norm(x,dim=(1,)))\n",
        "\n",
        "# norm = SimplestLayerNorm(eps=0)\n",
        "# print(norm(x))"
      ],
      "metadata": {
        "colab": {
          "base_uri": "https://localhost:8080/"
        },
        "id": "BvqXIduqwMZy",
        "outputId": "7947b42d-ac60-4a64-b68c-7bc8d19f5e99"
      },
      "execution_count": 14,
      "outputs": [
        {
          "output_type": "stream",
          "name": "stdout",
          "text": [
            "torch.Size([4, 1, 28, 28]) torch.float32 tensor(0.1304)\n",
            "tensor([2, 3, 0, 2])\n",
            "tensor([[0.1074, 0.0847, 0.1155, 0.1054, 0.1063, 0.0881, 0.0897, 0.1002, 0.0982,\n",
            "         0.1045],\n",
            "        [0.1058, 0.0831, 0.1170, 0.1065, 0.1056, 0.0851, 0.0941, 0.1014, 0.1026,\n",
            "         0.0988],\n",
            "        [0.1086, 0.0881, 0.1114, 0.1047, 0.1034, 0.0910, 0.0930, 0.0994, 0.0963,\n",
            "         0.1043],\n",
            "        [0.1067, 0.0834, 0.1170, 0.1092, 0.1045, 0.0854, 0.0931, 0.1006, 0.0975,\n",
            "         0.1025]], grad_fn=<SoftmaxBackward0>)\n"
          ]
        }
      ]
    },
    {
      "cell_type": "code",
      "source": [],
      "metadata": {
        "id": "kyYjp5CG5znA"
      },
      "execution_count": null,
      "outputs": []
    }
  ]
}